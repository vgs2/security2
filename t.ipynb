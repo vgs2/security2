{
 "cells": [
  {
   "cell_type": "code",
   "execution_count": 1,
   "source": [
    "import threading"
   ],
   "outputs": [],
   "metadata": {}
  },
  {
   "cell_type": "code",
   "execution_count": 45,
   "source": [
    "import os\r\n",
    "import pickle\r\n",
    "ELEICAO_PATH = 'eleicao.p'\r\n",
    "\r\n",
    "#testado\r\n",
    "def open_eleicoes():\r\n",
    "    '''\r\n",
    "    Abre o arquivo com as sessoes já criadas e seus respectivos votos\r\n",
    "    '''\r\n",
    "    if (os.path.isfile(ELEICAO_PATH)):\r\n",
    "        print('open_eleicoes, ja existe eleicao')\r\n",
    "        with open(ELEICAO_PATH, 'rb') as fp:\r\n",
    "            eleicoes = pickle.load(fp)\r\n",
    "    else: eleicoes = []\r\n",
    "    return eleicoes\r\n",
    "\r\n",
    "#testado\r\n",
    "def save_eleicoes(eleicoes):\r\n",
    "    '''\r\n",
    "    Salva o resultado da eleicao no arquivo padrão\r\n",
    "    '''\r\n",
    "    with open(ELEICAO_PATH, 'wb') as fp:\r\n",
    "        pickle.dump(eleicoes, fp, protocol=pickle.HIGHEST_PROTOCOL)\r\n",
    "\r\n",
    "#testado\r\n",
    "def criarsessao(message):\r\n",
    "    '''\r\n",
    "    recebe o comando de criar a sessao e a cria de acordo com os parâmetros passados. Assume que já foi checado o comando\r\n",
    "    ex de message: criarsessao <nome_sessao> <escolha1> <escolha1>\r\n",
    "    '''\r\n",
    "    eleicoes = open_eleicoes()\r\n",
    "    separate = message.split(' ')\r\n",
    "\r\n",
    "    if (len(separate) < 4):\r\n",
    "        return_message = 'Menos de 3 argumentos foram recebidos, por favor refaca a operacao'\r\n",
    "    elif (len(separate) > 7):\r\n",
    "        return_message = 'Mais de 7 argumentos foram recebidos, por favor refaca a operacao'\r\n",
    "    else:\r\n",
    "        escolhas = []\r\n",
    "        nome_escolhas = []\r\n",
    "        for aux in separate[2:]:\r\n",
    "            nome_escolhas.append(aux)\r\n",
    "        escolhas = [{'id':a, 'nome':nome_escolhas[a], 'votos':[]} for a in range(len(nome_escolhas))]\r\n",
    "        # print('escolhas:', escolhas)\r\n",
    "        if(len(eleicoes)==0):\r\n",
    "            print('len eleicoes == 0')\r\n",
    "            eleicao = {'nome':separate[1],'escolhas':escolhas}\r\n",
    "            eleicoes = [eleicao]\r\n",
    "            return_message = 'Sessao criada com sucesso.'\r\n",
    "        else:\r\n",
    "            print('len eleicoes != 0')\r\n",
    "            def check_name(name, list_dict):\r\n",
    "                for a in list_dict:\r\n",
    "                    if a['nome'] == name:\r\n",
    "                        return 0\r\n",
    "                return 1\r\n",
    "            # se nao for vazio, checa se ja tem alguma sessao com o mesmo nome\r\n",
    "            nome = separate[1]\r\n",
    "            if not check_name(nome, eleicoes):\r\n",
    "                return_message = 'O nome desta sessao ja existe, tente novamente com um novo nome'\r\n",
    "            else:\r\n",
    "                eleicoes.append({'nome':separate[1],'escolhas':escolhas})\r\n",
    "                save_eleicoes(eleicoes)\r\n",
    "                return_message = 'Sessao criada com sucesso.'\r\n",
    "    save_eleicoes(eleicoes)\r\n",
    "    # print('eleicoes: ', eleicoes)\r\n",
    "    return return_message\r\n",
    "\r\n",
    "#testado\r\n",
    "def quem_votou(eleicao):\r\n",
    "    '''\r\n",
    "    recebe uma sessao (dict) e retorna o id dos usuários que já votaram nela\r\n",
    "    '''\r\n",
    "    result = []\r\n",
    "    for escolha in eleicao['escolhas']:\r\n",
    "        for voto in escolha['votos']:\r\n",
    "            result.append(voto)\r\n",
    "    return result\r\n",
    "\r\n",
    "#TESTADO\r\n",
    "def executar_voto(mensagem, user_id):\r\n",
    "    '''\r\n",
    "    com tudo validado, pegaremos a mensagem e efetuaremos o voto\r\n",
    "    '''\r\n",
    "    eleicoes = open_eleicoes()\r\n",
    "    nome = mensagem.split(' ')[1]\r\n",
    "    id_escolha = mensagem.split(' ')[2]\r\n",
    "    print(f'nome: {nome}, id_escolha: {id_escolha}')\r\n",
    "    # Caso o usuário não tenha votado em nenhuma das escolhas de uma dada sessao, o voto será computado\r\n",
    "    for eleicao in eleicoes:\r\n",
    "        if(eleicao['nome']==nome and user_id not in quem_votou(eleicao)):\r\n",
    "            # print('entrou')\r\n",
    "            for escolha in eleicao['escolhas']:\r\n",
    "                # print()\r\n",
    "                if(escolha['id'] == int(id_escolha)): \r\n",
    "                    escolha['votos'].append(user_id)\r\n",
    "                    save_eleicoes(eleicoes)\r\n",
    "                    return 'Voto computado'\r\n",
    "    save_eleicoes(eleicoes)\r\n",
    "    return 'Voto não computado, houve algum erro'\r\n",
    "                \r\n",
    "#TESTADO\r\n",
    "def exibir_sessoes():\r\n",
    "    '''\r\n",
    "    está exibindo todas as sessoes, disponiveis para voto ou não\r\n",
    "    '''\r\n",
    "    eleicoes = open_eleicoes()\r\n",
    "    return str([eleicao['nome'] for eleicao in eleicoes])\r\n",
    "\r\n",
    "#TESTADO\r\n",
    "def exibir_escolhas(nome_sessao):\r\n",
    "    '''\r\n",
    "    exibe as escolhas disponíveis para voto de uma dada sessao\r\n",
    "    '''\r\n",
    "    sessoes = open_eleicoes()\r\n",
    "    for sessao in sessoes:\r\n",
    "        if sessao['nome'] == nome_sessao: return str([{'id':escolha['id'], 'nome':escolha['nome']} for escolha in sessao['escolhas']])\r\n",
    "    return 'Este nome de sessao é inválido'\r\n",
    "\r\n",
    "\r\n",
    "#TESTADO\r\n",
    "def total_votos_sessao(sessao):\r\n",
    "    '''\r\n",
    "    Recebe uma sessão (dict) e retorna o total de votos já realizados na mesma.\r\n",
    "    '''\r\n",
    "    total = 0\r\n",
    "    for escolha in sessao['escolhas']:\r\n",
    "        total = total + len(escolha['votos'])\r\n",
    "    return total\r\n",
    "\r\n",
    "\r\n",
    "#TESTADO\r\n",
    "def exibir_resultados():\r\n",
    "    '''\r\n",
    "    cada sessao vai ter uma lista de dicts\r\n",
    "    '''\r\n",
    "    eleicoes = open_eleicoes()\r\n",
    "    resultado_eleicoes = []\r\n",
    "    for sessao in eleicoes:\r\n",
    "        resultado_sessao = []\r\n",
    "        nome_sessao = sessao['nome']\r\n",
    "        total = total_votos_sessao(sessao)\r\n",
    "        if total != 0:\r\n",
    "            for escolha in sessao['escolhas']:\r\n",
    "                r = {'id':escolha['id'], 'nome':escolha['nome'], 'porcentagem de votos': str(100* len(escolha['votos'] ) / total) + '%'}\r\n",
    "                resultado_sessao.append(r)\r\n",
    "        else: r = 'Ainda não há votos para essa sessão'\r\n",
    "\r\n",
    "        resultado_eleicoes.append({'Nome da sessao':sessao['nome'], 'resultado':resultado_sessao})    \r\n",
    "    return resultado_eleicoes\r\n",
    "\r\n",
    "\r\n",
    "def app(mensagem, user_id):\r\n",
    "    '''\r\n",
    "    recebe a mensagem e executa devidamente\r\n",
    "    '''\r\n",
    "    mensagem_partida = mensagem.split(' ')\r\n",
    "    comando = mensagem_partida[0]\r\n",
    "    if(comando == 'votar'):\r\n",
    "        if(len(mensagem_partida) == 1):\r\n",
    "            return exibir_sessoes()\r\n",
    "        elif(len(mensagem_partida) == 2):\r\n",
    "            nome_sessao = mensagem_partida[1]\r\n",
    "            return exibir_escolhas(nome_sessao)\r\n",
    "        elif(len(mensagem_partida) == 3):\r\n",
    "            return executar_voto(mensagem, user_id)\r\n",
    "        else: return 'Parâmetros em excesso'\r\n",
    "    elif(comando == 'resultados'):\r\n",
    "        return str(exibir_resultados)\r\n",
    "    elif(comando == 'criarsessao'):\r\n",
    "        return str(criarsessao(mensagem))\r\n",
    "    else: return 'error'"
   ],
   "outputs": [],
   "metadata": {}
  },
  {
   "cell_type": "markdown",
   "source": [
    "# Testando as funções"
   ],
   "metadata": {}
  },
  {
   "cell_type": "code",
   "execution_count": 47,
   "source": [
    "# total_votos_sessao OK!\r\n",
    "\r\n",
    "sessao = {'nome': 'blos',  'escolhas': [{'id': 0, 'nome': 'bla', 'votos': [2,9,12]}, {'id': 1, 'nome': 'blob', 'votos': [1,3]}]}\r\n",
    "# total_votos_sessao(sessao)\r\n",
    "# exibir_resultados()\r\n",
    "# exibir_sessoes()\r\n",
    "# executar_voto(mensagem = 'votar blosssssssssssssss 1', user_id=5)\r\n",
    "# quem_votou(sessao)\r\n",
    "# criarsessao('criarsessao blasbstersagraaaado blabster sagrado aq')\r\n",
    "app(mensagem='criarsessao sessaob opcao1 opcao2', user_id=3)"
   ],
   "outputs": [
    {
     "output_type": "stream",
     "name": "stdout",
     "text": [
      "open_eleicoes, ja existe eleicao\n",
      "len eleicoes != 0\n"
     ]
    },
    {
     "output_type": "execute_result",
     "data": {
      "text/plain": [
       "'Sessao criada com sucesso.'"
      ]
     },
     "metadata": {},
     "execution_count": 47
    }
   ],
   "metadata": {}
  },
  {
   "cell_type": "code",
   "execution_count": 26,
   "source": [
    "# exibir_resultados()\r\n",
    "# exibir_resultados()"
   ],
   "outputs": [],
   "metadata": {}
  },
  {
   "cell_type": "code",
   "execution_count": 27,
   "source": [
    "\r\n",
    "exibir_escolhas('blos')"
   ],
   "outputs": [
    {
     "output_type": "stream",
     "name": "stdout",
     "text": [
      "open_eleicoes, ja existe eleicao\n"
     ]
    },
    {
     "output_type": "execute_result",
     "data": {
      "text/plain": [
       "\"[{'id': 0, 'nome': 'bla'}, {'id': 1, 'nome': 'blob'}]\""
      ]
     },
     "metadata": {},
     "execution_count": 27
    }
   ],
   "metadata": {}
  },
  {
   "cell_type": "code",
   "execution_count": 9,
   "source": [
    "teste = [{'id': 0, 'nome': 'bla', 'votos': []}, {'id': 1, 'nome': 'blob', 'votos': [1]}]\r\n"
   ],
   "outputs": [],
   "metadata": {}
  },
  {
   "cell_type": "code",
   "execution_count": 57,
   "source": [
    "from ZVprotect import ZVprotect as ZV"
   ],
   "outputs": [],
   "metadata": {}
  },
  {
   "cell_type": "code",
   "execution_count": 63,
   "source": [
    "# 0 chave publica, privada, primos multiplicados, e o objeto\r\n",
    "publickey, privatekey, n, _ = ZV.CAssimetrica.gerarChaves()\r\n"
   ],
   "outputs": [
    {
     "output_type": "stream",
     "name": "stdout",
     "text": [
      "Escolha sua chave pública:\n",
      "\n",
      "[3, 5, 7, 9, 13, 15, 17, 19, 21, 23, 25, 27, 29, 31, 35, 37, 39, 41, 43, 45, 47, 49, 51, 53, 57, 59, 61, 63, 67, 69, 71, 73, 75, 79, 81, 83, 85, 87, 89, 91, 93, 95, 97, 101, 103, 105, 107, 109, 113, 115, 117, 119, 123, 125, 127, 129, 131, 133, 135, 137, 139, 141, 145, 147, 149, 151, 153, 155, 157, 159, 161, 163, 167, 169, 171, 173, 177, 179, 181, 183, 185, 189, 191, 193, 195, 197, 199, 201, 203, 205, 207, 211, 213, 215, 217, 219, 221, 223, 225, 227, 229, 233, 235, 237, 239, 243, 245, 247, 249, 251, 255, 257, 259, 261, 263, 265, 267, 269, 271, 273, 277, 279, 281, 283, 285, 289, 291, 293, 295, 299, 301, 303, 305, 307, 309, 311, 313, 315, 317, 321, 323, 325, 327, 329, 331, 333, 335, 337, 339, 343, 345, 347, 349]\n",
      "\n"
     ]
    }
   ],
   "metadata": {}
  },
  {
   "cell_type": "code",
   "execution_count": 67,
   "source": [
    "for a in range(2,4):\r\n",
    "        publickey, privatekey, n, _ = ZV.CAssimetrica.gerarChaves()\r\n",
    "        with open(f'client{a}_public_key.key', 'wb') as fp:\r\n",
    "                pickle.dump(publickey, fp, protocol=pickle.HIGHEST_PROTOCOL)\r\n",
    "        with open(f'client{a}_private_key.key', 'wb') as fp:\r\n",
    "                pickle.dump(privatekey, fp, protocol=pickle.HIGHEST_PROTOCOL)\r\n",
    "        with open(f'client{a}n.key', 'wb') as fp:\r\n",
    "                pickle.dump(n, fp, protocol=pickle.HIGHEST_PROTOCOL)"
   ],
   "outputs": [
    {
     "output_type": "stream",
     "name": "stdout",
     "text": [
      "Escolha sua chave pública:\n",
      "\n",
      "[7, 11, 13, 17, 19, 23, 29, 31, 37, 41, 43, 47, 49, 53, 59, 61, 67, 71, 73, 77, 79, 83, 89, 91, 97, 101, 103, 107, 113, 119, 121, 127, 131, 133, 137, 139, 143, 149, 151, 157, 163, 167, 169, 173, 179, 181, 187, 191, 193, 197, 199, 203, 209, 211, 217, 221, 223, 227, 229, 233, 239, 241, 247, 251, 253, 257, 259, 263, 271, 277, 281, 283, 287, 289, 293, 299, 301, 307, 311, 313, 317, 319, 323, 329, 331, 337, 341, 343, 347, 349, 353, 359, 361, 367, 371, 373, 377, 383, 389, 391, 397, 401, 403, 407, 409, 413, 419, 421, 427, 433, 437, 439, 443, 449, 451, 457, 461, 463, 467, 469, 473, 479, 481, 487, 491, 493, 497, 499, 503, 509, 511, 517, 521, 523, 527, 529, 533]\n",
      "\n",
      "Escolha sua chave pública:\n",
      "\n",
      "[3, 5, 7, 9, 13, 15, 17, 19, 21, 23, 25, 27, 29, 31, 35, 37, 39, 41, 43, 45, 47, 49, 51, 53, 57, 59, 61, 63, 67, 69, 71, 73, 75, 79, 81, 83, 85, 87, 89, 91, 93, 95, 97, 101, 103, 105, 107, 109, 113, 115, 117, 119, 123, 125, 127, 129, 131, 133, 135, 137, 139, 141, 145, 147, 149, 151, 153, 155, 157, 159, 161, 163, 167, 169, 171, 173, 177, 179, 181, 183, 185, 189, 191, 193, 195, 197, 199, 201, 203, 205, 207, 211, 213, 215, 217, 219, 221, 223, 225, 227, 229, 233, 235, 237, 239, 243, 245, 247, 249, 251, 255, 257, 259, 261, 263, 265, 267, 269, 271, 273, 277, 279, 281, 283, 285, 289, 291, 293, 295, 299, 301, 303, 305, 307, 309, 311, 313, 315, 317, 321, 323, 325, 327, 329, 331, 333, 335, 337, 339, 343, 345, 347, 349]\n",
      "\n"
     ]
    }
   ],
   "metadata": {}
  },
  {
   "cell_type": "markdown",
   "source": [],
   "metadata": {}
  },
  {
   "cell_type": "code",
   "execution_count": 53,
   "source": [
    "serverSocket = ZVprotect.Conexao.conectar(2)"
   ],
   "outputs": [
    {
     "output_type": "stream",
     "name": "stdout",
     "text": [
      "DESKTOP-H50GRPF\n"
     ]
    }
   ],
   "metadata": {}
  },
  {
   "cell_type": "code",
   "execution_count": null,
   "source": [
    "    \r\n",
    "PRIVADA_PATH = 'path'\r\n",
    "\r\n",
    "def salvar_chave_privada():\r\n",
    "    '''\r\n",
    "\r\n",
    "    '''\r\n",
    "    if (os.path.isfile(PRIVADA_PATH)):\r\n",
    "        print('chave privada ja existe')\r\n",
    "        with open(ELEICAO_PATH, 'rb') as fp:\r\n",
    "            eleicoes = pickle.load(fp)\r\n",
    "    else: eleicoes = []\r\n",
    "    return eleicoes\r\n",
    "\r\n",
    "def save_chave(chave):\r\n",
    "    '''\r\n",
    "    Salva o resultado da eleicao no arquivo padrão\r\n",
    "    '''\r\n",
    "    with open(PRIVADA_PATH, 'wb') as fp:\r\n",
    "        pickle.dump(chave, fp, protocol=pickle.HIGHEST_PROTOCOL)"
   ],
   "outputs": [],
   "metadata": {}
  }
 ],
 "metadata": {
  "orig_nbformat": 4,
  "language_info": {
   "name": "python",
   "version": "3.8.3",
   "mimetype": "text/x-python",
   "codemirror_mode": {
    "name": "ipython",
    "version": 3
   },
   "pygments_lexer": "ipython3",
   "nbconvert_exporter": "python",
   "file_extension": ".py"
  },
  "kernelspec": {
   "name": "python3",
   "display_name": "Python 3.8.3 64-bit ('base': conda)"
  },
  "interpreter": {
   "hash": "41de3f3e733cf96f09e964b3c03c726e3c98a0f3fb25abaa0544c5b7cf99ca63"
  }
 },
 "nbformat": 4,
 "nbformat_minor": 2
}