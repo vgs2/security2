{
 "cells": [
  {
   "cell_type": "code",
   "execution_count": 1,
   "source": [
    "import threading"
   ],
   "outputs": [],
   "metadata": {}
  },
  {
   "cell_type": "code",
   "execution_count": 2,
   "source": [
    "d = [{'nome':'aaa'},{'nome':'aab'},{'nome':'acca'}]"
   ],
   "outputs": [],
   "metadata": {}
  },
  {
   "cell_type": "code",
   "execution_count": 50,
   "source": [
    "import os\r\n",
    "import pickle\r\n",
    "ELEICAO_PATH = 'eleicao.p'\r\n",
    "\r\n",
    "def open_eleicoes():\r\n",
    "    if (os.path.isfile(ELEICAO_PATH)):\r\n",
    "        print('open_eleicoes, ja existe eleicao')\r\n",
    "        with open(ELEICAO_PATH, 'rb') as fp:\r\n",
    "            eleicoes = pickle.load(fp)\r\n",
    "    else: eleicoes = []\r\n",
    "    return eleicoes\r\n",
    "\r\n",
    "def save_eleicoes(eleicoes):\r\n",
    "    with open(ELEICAO_PATH, 'wb') as fp:\r\n",
    "        pickle.dump(eleicoes, fp, protocol=pickle.HIGHEST_PROTOCOL)\r\n",
    "\r\n",
    "\r\n",
    "def criarsessao(command):\r\n",
    "\r\n",
    "    # pegando as eleicoes passadas\r\n",
    "    eleicoes = open_eleicoes()\r\n",
    "    separate = command.split(' ')\r\n",
    "    # checar quantidade minima de argumentos\r\n",
    "\r\n",
    "    if (len(separate) < 4):\r\n",
    "        return_message = 'Menos de 3 argumentos foram recebidos, por favor refaca a operacao'\r\n",
    "    elif (len(separate) > 7):\r\n",
    "        return_message = 'Mais de 7 argumentos foram recebidos, por favor refaca a operacao'\r\n",
    "    else:\r\n",
    "        escolhas = []\r\n",
    "        nome_escolhas = []\r\n",
    "        for aux in separate[2:]:\r\n",
    "            nome_escolhas.append(aux)\r\n",
    "        escolhas = [{'id':a, 'nome':nome_escolhas[a], 'votos':[]} for a in range(len(nome_escolhas))]\r\n",
    "        # print('escolhas:', escolhas)\r\n",
    "        if(len(eleicoes)==0):\r\n",
    "            print('len eleicoes == 0')\r\n",
    "            eleicao = {'nome':separate[1],'escolhas':escolhas}\r\n",
    "            eleicoes = [eleicao]\r\n",
    "            return_message = 'Sessao criada com sucesso.'\r\n",
    "        else:\r\n",
    "            print('len eleicoes != 0')\r\n",
    "            def check_name(name, list_dict):\r\n",
    "                for a in list_dict:\r\n",
    "                    if a['nome'] == name:\r\n",
    "                        return 0\r\n",
    "                return 1\r\n",
    "            # se nao for vazio, checa se ja tem alguma sessao com o mesmo nome\r\n",
    "            nome = separate[1]\r\n",
    "            if not check_name(nome, eleicoes):\r\n",
    "                return_message = 'O nome desta sessao ja existe, tente novamente com um novo nome'\r\n",
    "            else:\r\n",
    "                eleicoes.append({'nome':separate[1],'escolhas':escolhas})\r\n",
    "                save_eleicoes(eleicoes)\r\n",
    "                return_message = 'Sessao criada com sucesso.'\r\n",
    "    save_eleicoes(eleicoes)\r\n",
    "    # print('eleicoes: ', eleicoes)\r\n",
    "    return return_message"
   ],
   "outputs": [],
   "metadata": {}
  },
  {
   "cell_type": "code",
   "execution_count": 53,
   "source": [
    "criarsessao('criarsessao blos123555 bla blob')\r\n",
    "a = open_eleicoes()"
   ],
   "outputs": [
    {
     "output_type": "stream",
     "name": "stdout",
     "text": [
      "open_eleicoes, ja existe eleicao\n",
      "escolhas: [{'id': 0, 'nome': 'bla', 'votos': []}, {'id': 1, 'nome': 'blob', 'votos': []}]\n",
      "len eleicoes != 0\n",
      "eleicoes:  [{'nome': 'blos', 'escolhas': [{'id': 0, 'nome': 'bla', 'votos': []}, {'id': 1, 'nome': 'blob', 'votos': []}]}, {'nome': 'blos123', 'escolhas': [{'id': 0, 'nome': 'bla', 'votos': []}, {'id': 1, 'nome': 'blob', 'votos': []}]}, {'nome': 'blos123555', 'escolhas': [{'id': 0, 'nome': 'bla', 'votos': []}, {'id': 1, 'nome': 'blob', 'votos': []}]}]\n",
      "open_eleicoes, ja existe eleicao\n"
     ]
    }
   ],
   "metadata": {}
  },
  {
   "cell_type": "code",
   "execution_count": 38,
   "source": [
    "a = open_eleicoes()\r\n",
    "print(a)"
   ],
   "outputs": [
    {
     "output_type": "stream",
     "name": "stdout",
     "text": [
      "Ja existe eleicao\n",
      "[{'nome': 'blos', 'escolhas': [{'id': 0, 'nome': 'bla', 'votos': []}, {'id': 1, 'nome': 'blob', 'votos': []}]}]\n"
     ]
    }
   ],
   "metadata": {}
  },
  {
   "cell_type": "code",
   "execution_count": 49,
   "source": [
    "a = []\r\n",
    "a.append(1)\r\n",
    "print(a)"
   ],
   "outputs": [
    {
     "output_type": "stream",
     "name": "stdout",
     "text": [
      "[1]\n"
     ]
    }
   ],
   "metadata": {}
  },
  {
   "cell_type": "code",
   "execution_count": 43,
   "source": [
    "os.path.isfile('data.p')"
   ],
   "outputs": [
    {
     "output_type": "execute_result",
     "data": {
      "text/plain": [
       "True"
      ]
     },
     "metadata": {},
     "execution_count": 43
    }
   ],
   "metadata": {}
  },
  {
   "cell_type": "code",
   "execution_count": 58,
   "source": [
    "# def check_votar_msg(mensagem):\r\n",
    "#     print()\r\n",
    "\r\n",
    "# def check_id_votar():\r\n",
    "#     print()\r\n",
    "\r\n",
    "# def get_available_session():\r\n",
    "#     eleicoes = open_eleicoes()\r\n",
    "eleicoes = open_eleicoes()\r\n",
    "eleicoes\r\n"
   ],
   "outputs": [
    {
     "output_type": "stream",
     "name": "stdout",
     "text": [
      "open_eleicoes, ja existe eleicao\n"
     ]
    },
    {
     "output_type": "execute_result",
     "data": {
      "text/plain": [
       "[{'nome': 'blos',\n",
       "  'escolhas': [{'id': 0, 'nome': 'bla', 'votos': []},\n",
       "   {'id': 1, 'nome': 'blob', 'votos': []}]},\n",
       " {'nome': 'blos123',\n",
       "  'escolhas': [{'id': 0, 'nome': 'bla', 'votos': []},\n",
       "   {'id': 1, 'nome': 'blob', 'votos': []}]},\n",
       " {'nome': 'blos123555',\n",
       "  'escolhas': [{'id': 0, 'nome': 'bla', 'votos': []},\n",
       "   {'id': 1, 'nome': 'blob', 'votos': []}]}]"
      ]
     },
     "metadata": {},
     "execution_count": 58
    }
   ],
   "metadata": {}
  },
  {
   "cell_type": "code",
   "execution_count": 71,
   "source": [
    "def quem_votou(eleicao):\r\n",
    "    result = []\r\n",
    "    for escolha in eleicao['escolhas']:\r\n",
    "        for voto in escolha['votos']:\r\n",
    "            result.append(voto)\r\n",
    "    return result\r\n",
    "\r\n",
    "def executar_voto(mensagem, user_id):\r\n",
    "    '''\r\n",
    "    com tudo validado, pegaremos a mensagem e efetuaremos o voto\r\n",
    "    '''\r\n",
    "    eleicoes = open_eleicoes()\r\n",
    "    nome = mensagem.split(' ')[1]\r\n",
    "    id_escolha = mensagem.split(' ')[2]\r\n",
    "    print(f'nome: {nome}, id_escolha: {id_escolha}')\r\n",
    "    # Caso o usuário não tenha votado em nenhuma das escolhas de uma dada sessao, o voto será computado\r\n",
    "    for eleicao in eleicoes:\r\n",
    "        if(eleicao['nome']==nome and user_id not in quem_votou(eleicao)):\r\n",
    "            # print('entrou')\r\n",
    "            for escolha in eleicao['escolhas']:\r\n",
    "                # print()\r\n",
    "                if(escolha['id'] == int(id_escolha)): \r\n",
    "                    escolha['votos'].append(user_id)\r\n",
    "                    save_eleicoes(eleicoes)\r\n",
    "                    return 'Voto computado'\r\n",
    "    save_eleicoes(eleicoes)\r\n",
    "    return 'Voto não computado, houve algum erro'\r\n",
    "                \r\n",
    "\r\n",
    "def comando_votar(mensagem, user_id):\r\n",
    "    \r\n",
    "\r\n"
   ],
   "outputs": [],
   "metadata": {}
  },
  {
   "cell_type": "code",
   "execution_count": 73,
   "source": [
    "executar_voto('votar blos 1', 1)"
   ],
   "outputs": [
    {
     "output_type": "stream",
     "name": "stdout",
     "text": [
      "open_eleicoes, ja existe eleicao\n",
      "nome: blos, id_escolha: 1\n"
     ]
    },
    {
     "output_type": "execute_result",
     "data": {
      "text/plain": [
       "'Voto não computado, houve algum erro'"
      ]
     },
     "metadata": {},
     "execution_count": 73
    }
   ],
   "metadata": {}
  },
  {
   "cell_type": "code",
   "execution_count": 70,
   "source": [
    "eleicoes = open_eleicoes()\r\n",
    "eleicoes"
   ],
   "outputs": [
    {
     "output_type": "stream",
     "name": "stdout",
     "text": [
      "open_eleicoes, ja existe eleicao\n"
     ]
    },
    {
     "output_type": "execute_result",
     "data": {
      "text/plain": [
       "[{'nome': 'blos',\n",
       "  'escolhas': [{'id': 0, 'nome': 'bla', 'votos': []},\n",
       "   {'id': 1, 'nome': 'blob', 'votos': []}]},\n",
       " {'nome': 'blos123',\n",
       "  'escolhas': [{'id': 0, 'nome': 'bla', 'votos': []},\n",
       "   {'id': 1, 'nome': 'blob', 'votos': []}]},\n",
       " {'nome': 'blos123555',\n",
       "  'escolhas': [{'id': 0, 'nome': 'bla', 'votos': []},\n",
       "   {'id': 1, 'nome': 'blob', 'votos': []}]}]"
      ]
     },
     "metadata": {},
     "execution_count": 70
    }
   ],
   "metadata": {}
  },
  {
   "cell_type": "code",
   "execution_count": null,
   "source": [],
   "outputs": [],
   "metadata": {}
  }
 ],
 "metadata": {
  "orig_nbformat": 4,
  "language_info": {
   "name": "python",
   "version": "3.8.8",
   "mimetype": "text/x-python",
   "codemirror_mode": {
    "name": "ipython",
    "version": 3
   },
   "pygments_lexer": "ipython3",
   "nbconvert_exporter": "python",
   "file_extension": ".py"
  },
  "kernelspec": {
   "name": "python3",
   "display_name": "Python 3.8.8 64-bit ('base': conda)"
  },
  "interpreter": {
   "hash": "078700e73cc7da4770e77ddf434ea40c9141e200884cbabb81e2472b976189cc"
  }
 },
 "nbformat": 4,
 "nbformat_minor": 2
}