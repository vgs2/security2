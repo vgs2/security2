{
 "cells": [
  {
   "cell_type": "code",
   "execution_count": 5,
   "source": [
    "import pickle\r\n",
    "\r\n",
    "N_SERVER_PATH = 'n.key'\r\n",
    "SERVER_PUBLIC_KEY_PATH = 'server_public_key.key'\r\n",
    "SERVER_PRIVATE_KEY_PATH = 'server_private_key.key'\r\n",
    "\r\n",
    "\r\n",
    "with open(SERVER_PUBLIC_KEY_PATH, 'rb') as fp:\r\n",
    "    server_public_key = pickle.load(fp)\r\n",
    "with open(SERVER_PRIVATE_KEY_PATH, 'rb') as fp:\r\n",
    "    server_private_key = pickle.load(fp)\r\n",
    "\r\n",
    "print(type(server_public_key))\r\n",
    "print(server_public_key)\r\n",
    "print(type(server_private_key))\r\n",
    "print(server_private_key)"
   ],
   "outputs": [
    {
     "output_type": "stream",
     "name": "stdout",
     "text": [
      "<class 'int'>\n",
      "361\n",
      "<class 'int'>\n",
      "121\n"
     ]
    }
   ],
   "metadata": {}
  },
  {
   "cell_type": "code",
   "execution_count": null,
   "source": [],
   "outputs": [],
   "metadata": {}
  },
  {
   "cell_type": "code",
   "execution_count": null,
   "source": [],
   "outputs": [],
   "metadata": {}
  }
 ],
 "metadata": {
  "orig_nbformat": 4,
  "language_info": {
   "name": "python",
   "version": "3.8.3",
   "mimetype": "text/x-python",
   "codemirror_mode": {
    "name": "ipython",
    "version": 3
   },
   "pygments_lexer": "ipython3",
   "nbconvert_exporter": "python",
   "file_extension": ".py"
  },
  "kernelspec": {
   "name": "python3",
   "display_name": "Python 3.8.3 64-bit ('base': conda)"
  },
  "interpreter": {
   "hash": "41de3f3e733cf96f09e964b3c03c726e3c98a0f3fb25abaa0544c5b7cf99ca63"
  }
 },
 "nbformat": 4,
 "nbformat_minor": 2
}