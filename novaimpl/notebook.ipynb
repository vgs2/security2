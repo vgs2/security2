{
 "cells": [
  {
   "cell_type": "code",
   "execution_count": 20,
   "source": [
    "from cryptography.hazmat.backends import default_backend\r\n",
    "from cryptography.hazmat.primitives.asymmetric import rsa\r\n",
    "from cryptography.hazmat.primitives import serialization\r\n",
    "from cryptography.hazmat.primitives.asymmetric import padding\r\n",
    "from cryptography.hazmat.primitives import hashes\r\n",
    "import hashlib"
   ],
   "outputs": [],
   "metadata": {}
  },
  {
   "cell_type": "code",
   "execution_count": 39,
   "source": [
    "from cryptography.hazmat.backends import default_backend\r\n",
    "from cryptography.hazmat.primitives.asymmetric import rsa\r\n",
    "from cryptography.hazmat.primitives import serialization\r\n",
    "from cryptography.hazmat.primitives.asymmetric import padding\r\n",
    "from cryptography.hazmat.primitives import hashes\r\n",
    "import hashlib\r\n",
    "\r\n",
    "private_key = rsa.generate_private_key(\r\n",
    "    public_exponent=65537,\r\n",
    "    key_size=2048,\r\n",
    "    backend=default_backend()\r\n",
    ")\r\n",
    "public_key = private_key.public_key()\r\n",
    "pem = private_key.private_bytes(\r\n",
    "    encoding=serialization.Encoding.PEM,\r\n",
    "    format=serialization.PrivateFormat.PKCS8,\r\n",
    "    encryption_algorithm=serialization.NoEncryption()\r\n",
    ")\r\n",
    "with open('private_key_client.pem', 'wb') as f:\r\n",
    "    f.write(pem)\r\n",
    "\r\n",
    "pem = public_key.public_bytes(\r\n",
    "    encoding=serialization.Encoding.PEM,\r\n",
    "    format=serialization.PublicFormat.SubjectPublicKeyInfo\r\n",
    ")\r\n",
    "\r\n",
    "with open('public_key_client.pem', 'wb') as f:\r\n",
    "    f.write(pem)"
   ],
   "outputs": [],
   "metadata": {}
  },
  {
   "cell_type": "code",
   "execution_count": null,
   "source": [
    "with open(\"private_key.pem\", \"rb\") as key_file:\r\n",
    "    private_key = serialization.load_pem_private_key(\r\n",
    "        key_file.read(),\r\n",
    "        password=None,\r\n",
    "        backend=default_backend()\r\n",
    "    )\r\n",
    "\r\n",
    "with open(\"public_key.pem\", \"rb\") as key_file:\r\n",
    "    public_key = serialization.load_pem_public_key(\r\n",
    "        key_file.read(),\r\n",
    "        backend=default_backend()\r\n",
    "    )"
   ],
   "outputs": [],
   "metadata": {}
  },
  {
   "cell_type": "code",
   "execution_count": 9,
   "source": [
    "message = b'encrypt me!'\r\n",
    "# public_key =  # Use one of the methods above to get your public key\r\n",
    "\r\n",
    "encrypted = public_key.encrypt(\r\n",
    "    message,\r\n",
    "    padding.OAEP(\r\n",
    "        mgf=padding.MGF1(algorithm=hashes.SHA256()),\r\n",
    "        algorithm=hashes.SHA256(),\r\n",
    "        label=None\r\n",
    "    )\r\n",
    ")\r\n",
    "encrypted[:10]"
   ],
   "outputs": [
    {
     "output_type": "execute_result",
     "data": {
      "text/plain": [
       "b'>b\\xdb\\xeb$\\xd1 \\xed\\x80='"
      ]
     },
     "metadata": {},
     "execution_count": 9
    }
   ],
   "metadata": {}
  },
  {
   "cell_type": "code",
   "execution_count": 10,
   "source": [
    "original_message = private_key.decrypt(\r\n",
    "    encrypted,\r\n",
    "    padding.OAEP(\r\n",
    "        mgf=padding.MGF1(algorithm=hashes.SHA256()),\r\n",
    "        algorithm=hashes.SHA256(),\r\n",
    "        label=None\r\n",
    "    )\r\n",
    ")\r\n",
    "original_message"
   ],
   "outputs": [
    {
     "output_type": "execute_result",
     "data": {
      "text/plain": [
       "b'encrypt me!'"
      ]
     },
     "metadata": {},
     "execution_count": 10
    }
   ],
   "metadata": {}
  },
  {
   "cell_type": "code",
   "execution_count": 19,
   "source": [
    "# o lado de baixo:\r\n",
    "#vamos gerar uma chave simetrica\r\n",
    "import os\r\n",
    "from cryptography.hazmat.primitives.ciphers import Cipher, algorithms, modes\r\n",
    "\r\n",
    "import cryptography\r\n",
    "from cryptography.fernet import Fernet\r\n",
    "\r\n",
    "# key = Fernet.generate_key()\r\n",
    "# print(key)\r\n",
    "\r\n",
    "import cryptography\r\n",
    "from cryptography.fernet import Fernet\r\n",
    "\r\n",
    "key = Fernet.generate_key()\r\n",
    "# print(key)\r\n",
    "\r\n",
    "file = open('key.key', 'wb') #wb = write bytes\r\n",
    "file.write(key)\r\n",
    "file.close()\r\n",
    "\r\n",
    "\r\n",
    "#  Open the file to encrypt\r\n",
    "message = b'alalala'\r\n",
    "\r\n",
    "fernet = Fernet(key)\r\n",
    "encrypted = fernet.encrypt(message)\r\n",
    "print(message)\r\n",
    "encrypted\r\n",
    "fernet.decrypt(encrypted)"
   ],
   "outputs": [
    {
     "output_type": "stream",
     "name": "stdout",
     "text": [
      "b'alalala'\n"
     ]
    },
    {
     "output_type": "execute_result",
     "data": {
      "text/plain": [
       "b'alalala'"
      ]
     },
     "metadata": {},
     "execution_count": 19
    }
   ],
   "metadata": {}
  },
  {
   "cell_type": "code",
   "execution_count": 33,
   "source": [
    "def encrypt_with_symmetric(message, fernet_key):\r\n",
    "    fernet = Fernet(fernet_key)\r\n",
    "    return fernet.encrypt(message)\r\n",
    "\r\n",
    "def decrypt_with_symmetric(encrypted_message, fernet_key):\r\n",
    "    fernet = Fernet(fernet_key)\r\n",
    "    return fernet.decrypt(encrypted_message)\r\n",
    "\r\n",
    "def encrypt_with_publickey(message, public_key_path):\r\n",
    "    with open(public_key_path, \"rb\") as key_file:\r\n",
    "        public_key = serialization.load_pem_public_key(\r\n",
    "            key_file.read(),\r\n",
    "            backend=default_backend()\r\n",
    "        )\r\n",
    "    encrypted = public_key.encrypt(\r\n",
    "        message,\r\n",
    "        padding.OAEP(\r\n",
    "            mgf=padding.MGF1(algorithm=hashes.SHA256()),\r\n",
    "            algorithm=hashes.SHA256(),\r\n",
    "            label=None\r\n",
    "        )\r\n",
    "        )\r\n",
    "    return encrypted\r\n",
    "\r\n",
    "def decrypt_with_privatekey(encrypted_message, private_key_path):\r\n",
    "    with open(private_key_path, \"rb\") as key_file:\r\n",
    "        private_key = serialization.load_pem_private_key(\r\n",
    "            key_file.read(),\r\n",
    "            password=None,\r\n",
    "            backend=default_backend()\r\n",
    "        )\r\n",
    "    original_message = private_key.decrypt(\r\n",
    "        encrypted_message,\r\n",
    "        padding.OAEP(\r\n",
    "            mgf=padding.MGF1(algorithm=hashes.SHA256()),\r\n",
    "            algorithm=hashes.SHA256(),\r\n",
    "            label=None\r\n",
    "            )\r\n",
    "        )\r\n",
    "    return original_message\r\n",
    "\r\n",
    "def sign_with_privatekey(message, private_key_path):\r\n",
    "    '''\r\n",
    "    Recebe uma mensagem em formato de bytes e o caminho da private key\r\n",
    "    que será usada para assinar a mensagem\r\n",
    "    retorna a assinatura\r\n",
    "    '''\r\n",
    "    with open(private_key_path, \"rb\") as key_file:\r\n",
    "        private_key = serialization.load_pem_private_key(\r\n",
    "            key_file.read(),\r\n",
    "            password=None,\r\n",
    "            backend=default_backend()\r\n",
    "        )\r\n",
    "    signature = private_key.sign(\r\n",
    "            message,\r\n",
    "            padding.PSS(\r\n",
    "                mgf=padding.MGF1(hashes.SHA256()),\r\n",
    "                salt_length=padding.PSS.MAX_LENGTH\r\n",
    "            ),\r\n",
    "            hashes.SHA256()\r\n",
    "        )\r\n",
    "    return signature\r\n",
    "\r\n",
    "def check_signature(signature, message, public_key_path):\r\n",
    "    with open(public_key_path, \"rb\") as key_file:\r\n",
    "        public_key = serialization.load_pem_public_key(\r\n",
    "            key_file.read(),\r\n",
    "            backend=default_backend()\r\n",
    "        )\r\n",
    "    try: \r\n",
    "        public_key.verify(\r\n",
    "            signature,\r\n",
    "            message,\r\n",
    "            padding.PSS(\r\n",
    "                mgf=padding.MGF1(hashes.SHA256()),\r\n",
    "                salt_length=padding.PSS.MAX_LENGTH\r\n",
    "            ),\r\n",
    "            hashes.SHA256()\r\n",
    "        )\r\n",
    "        verification = True\r\n",
    "    except: verification = False\r\n",
    "    return verification\r\n",
    "\r\n",
    "def resumir(mensagem):\r\n",
    "    m = bytes(mensagem,\"utf-8\")\r\n",
    "    s = hashlib.sha256()\r\n",
    "    s.update(m)\r\n",
    "    return s.digest()"
   ],
   "outputs": [],
   "metadata": {}
  },
  {
   "cell_type": "code",
   "execution_count": null,
   "source": [],
   "outputs": [],
   "metadata": {}
  },
  {
   "cell_type": "code",
   "execution_count": 34,
   "source": [
    "signature = sign_with_privatekey(message=b'blob', private_key_path='private_key_server.pem')"
   ],
   "outputs": [],
   "metadata": {}
  },
  {
   "cell_type": "code",
   "execution_count": 37,
   "source": [
    "verification = check_signature(signature=signature, message=b'blob',public_key_path='public_key_server.pem')\r\n",
    "verification"
   ],
   "outputs": [],
   "metadata": {}
  },
  {
   "cell_type": "code",
   "execution_count": 38,
   "source": [],
   "outputs": [
    {
     "output_type": "execute_result",
     "data": {
      "text/plain": [
       "True"
      ]
     },
     "metadata": {},
     "execution_count": 38
    }
   ],
   "metadata": {}
  },
  {
   "cell_type": "code",
   "execution_count": 44,
   "source": [
    "message = b'blob'\r\n",
    "encrypted_message = encrypt_with_publickey(message,'public_key_server.pem')\r\n",
    "encrypted_message\r\n",
    "# type(encrypted_message)\r\n",
    "# decrypted_message = decrypt_with_privatekey(encrypted_message,'private_key_server.pem')\r\n",
    "# type(decrypted_message)"
   ],
   "outputs": [
    {
     "output_type": "execute_result",
     "data": {
      "text/plain": [
       "b'\\x05\\x80C\\xb6\\xbfr\\x05\\x99M\\xc9\\xa5h6\\x8bu\\x98!G&\\x81\\xa2\\x0b\\xe8\\xef\\xeb\\x01\\xfew\\x17\\xe2\\xf0\\xf4=9o\\xf4_\\x9dn\\x8b\\xfb\\xdf\\x83\\x07\\xe0\\x8a\\xa4\\xcb\\xcdqqNl\\xd6EpY\\xd1\\xd0\\xef\\x96\\x8b\\ns\\xbf\\xea/0my\\xd4\\xf0\\n\\x1c\\xf1\\xc9\\'owD\\x7f5\\x1e8Y\\xee\\xbfXO)\\xbf\\xe7)\\x1a\\x1f\\x02\\xcc\\xec\\xc5:\\x92\\x13\\x89\\xfdV\\x9b9\\xec8\\x99\\xdb\\xc2/\\xbd\\x7f\\x82Q\\x9c\\xb9\\x86Nc\\x00T\\x9c\\x10\\xc6\\xfb\\xf8K\\xfe@\\x1c\\x1e\\x01\\xfd\\xad\\xc9\\xec#\\x02\\xf3\\x91\\x18\\x7f\\xbe\\x10\\x824\\xe2o\\x9f\\x83\\xfe\\xea\\xba\\xd06\\xd5e\\x02\\xb0\\x92\\xc3*#D\\x9f\\xcb\\xbd\\xc9X\\xb9B\\x8d\\xb9\\xcb*\\xd0\\xb7\\xcb\\x94\\x1ay\\x82\\xf2\\xabFO\\x1c\\x8c\\x1fTA\\xba3\"0\\xf3U\\x802\\x00\\xf2M\\xbe\\'\\xc2u!\\xad!\\xbe0\\xed\\xdd\\x12\\xb5\\xa9\\x9b\\xe7mJ`\\xe9\\xa9Wb\\xc2\\x8a1B\\xe4aS\\xfc\\xde\\xce$\\x9c\\xd5~\\x11\\x80zF\\x18\\x9b\\x9e c\\x9b3A\\xee\\xf1'"
      ]
     },
     "metadata": {},
     "execution_count": 44
    }
   ],
   "metadata": {}
  },
  {
   "cell_type": "code",
   "execution_count": null,
   "source": [],
   "outputs": [],
   "metadata": {}
  }
 ],
 "metadata": {
  "orig_nbformat": 4,
  "language_info": {
   "name": "python",
   "version": "3.8.3",
   "mimetype": "text/x-python",
   "codemirror_mode": {
    "name": "ipython",
    "version": 3
   },
   "pygments_lexer": "ipython3",
   "nbconvert_exporter": "python",
   "file_extension": ".py"
  },
  "kernelspec": {
   "name": "python3",
   "display_name": "Python 3.8.3 64-bit ('base': conda)"
  },
  "interpreter": {
   "hash": "41de3f3e733cf96f09e964b3c03c726e3c98a0f3fb25abaa0544c5b7cf99ca63"
  }
 },
 "nbformat": 4,
 "nbformat_minor": 2
}